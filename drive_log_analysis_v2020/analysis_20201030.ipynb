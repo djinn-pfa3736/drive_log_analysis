{
 "cells": [
  {
   "cell_type": "code",
   "execution_count": 1,
   "metadata": {},
   "outputs": [],
   "source": [
    "# Data load part\n",
    "\n",
    "import pandas as pd\n",
    "import glob\n",
    "import json\n",
    "\n",
    "import datetime\n",
    "\n",
    "import pdb\n",
    "\n",
    "def return_date_and_time(datetime_count):\n",
    "    origin = datetime.datetime(1970, 1, 1)\n",
    "    \n",
    "    delta = datetime.timedelta(seconds=datetime_count)\n",
    "    current = origin + delta\n",
    "\n",
    "    return current\n",
    "     \n",
    "json_files = glob.glob(\"./dataset/car-location-logs/2020-09-*.json\")\n",
    "\n",
    "pos_mat = []\n",
    "time_vec = []\n",
    "for json_file in json_files:\n",
    "    with open(json_file) as f:\n",
    "        df = json.load(f)\n",
    "        items = df['Items']\n",
    "        for item in items:\n",
    "            pos_mat.append([item['lat'], item['lng']])\n",
    "            time_vec.append(item['timestamp'])\n",
    "                        \n",
    "order_df = pd.read_csv(\"./dataset/order_query_202009.csv\")"
   ]
  },
  {
   "cell_type": "code",
   "execution_count": 15,
   "metadata": {},
   "outputs": [
    {
     "name": "stdout",
     "output_type": "stream",
     "text": [
      "2020-09-29 10:18:23\n"
     ]
    }
   ],
   "source": [
    "tmp = return_date_and_time(time_vec[0])\n",
    "print(tmp)"
   ]
  },
  {
   "cell_type": "code",
   "execution_count": 41,
   "metadata": {},
   "outputs": [
    {
     "name": "stdout",
     "output_type": "stream",
     "text": [
      "ID                                            1126\n",
      "Aboard Ing Address                  沖縄市高原６丁目１１−２付近\n",
      "Aboard Ing Lat                              26.319\n",
      "Aboard Ing Lng                             127.827\n",
      "Approaching At                                 NaN\n",
      "Arriving At                                    NaN\n",
      "Charge ID                                      NaN\n",
      "Created At                    2020-09-01T11:07:54Z\n",
      "Deleted At                    2020-09-01T11:08:00Z\n",
      "Destination                               沖縄自動車道付近\n",
      "Destination Lat                            26.3107\n",
      "Destination Lng                            127.788\n",
      "Done At                                        NaN\n",
      "Driving At                                     NaN\n",
      "Is Notified Before Pick Up                   False\n",
      "Label                                         代行予約\n",
      "Manager ID                                     NaN\n",
      "Order Able ID                                  375\n",
      "Order Able Type                App\\Entities\\Client\n",
      "Pick Up At                                     NaN\n",
      "Reservation Number                               1\n",
      "Updated At                    2020-09-01T11:08:00Z\n",
      "Name: 0, dtype: object\n"
     ]
    }
   ],
   "source": [
    "print(order_df.iloc[0,:])"
   ]
  },
  {
   "cell_type": "code",
   "execution_count": 2,
   "metadata": {},
   "outputs": [],
   "source": [
    "def convert_date_to_timestamp(date_string):\n",
    "    year_string = date_string.split(\"T\")[0]\n",
    "    time_string = date_string.split(\"T\")[1]\n",
    "    time_string = time_string.split(\"Z\")[0]\n",
    "    year, month, day = year_string.split(\"-\")\n",
    "    time, minute, second = time_string.split(\":\")\n",
    "    \n",
    "    origin = datetime.datetime(1970, 1, 1)\n",
    "    delta = datetime.datetime(year=int(year), month=int(month), day=int(day), hour=int(time), minute=int(minute), second=int(second)) - origin\n",
    "    \n",
    "    return 24*3600*delta.days + delta.seconds"
   ]
  },
  {
   "cell_type": "code",
   "execution_count": 47,
   "metadata": {},
   "outputs": [],
   "source": [
    "import numpy as np\n",
    "import matplotlib.pyplot as plt\n",
    "\n",
    "pos_mat = np.array(pos_mat)\n",
    "time_vec = np.array(time_vec)\n",
    "order_time_vec = np.array([convert_date_to_timestamp(order_df.iloc[i,7]) for i in range(len(order_df))])\n",
    "\n",
    "dist_vec = []\n",
    "for i in range(len(order_time_vec)):\n",
    "    order_time = order_time_vec[i]\n",
    "    delta_vec = time_vec - order_time\n",
    "    date_idx = np.where((0 <= delta_vec) & (delta_vec <= 5))\n",
    "    if len(date_idx[0]) != 0:\n",
    "        car_pos_mat = pos_mat[date_idx]\n",
    "        order_pos = np.array([order_df.iloc[i,2], order_df.iloc[i,3]])\n",
    "        delta_pos = np.array([x - order_pos for x in car_pos_mat])\n",
    "        tmp_pos = delta_pos*100\n",
    "    \n",
    "        tmp_dist_vec = np.array([np.sqrt(x[0]**2 + x[1]**2) for x in tmp_pos])\n",
    "        dist_vec.append(tmp_dist_vec)\n",
    "    "
   ]
  },
  {
   "cell_type": "code",
   "execution_count": 65,
   "metadata": {},
   "outputs": [
    {
     "name": "stdout",
     "output_type": "stream",
     "text": [
      "[0.23899371 0.14465409 0.08490566 0.02515723 0.01257862 0.00628931\n",
      " 0.00314465 0.         0.00628931]\n"
     ]
    }
   ],
   "source": [
    "d_count = np.zeros(10)\n",
    "\n",
    "for d in dist_vec:\n",
    "    for i in range(10):\n",
    "        if 0 < len(np.where(d < i+1)[0]):\n",
    "            d_count[i] += 1\n",
    "ratio = np.array(d_count)/len(dist_vec)\n",
    "print(np.diff(ratio))"
   ]
  },
  {
   "cell_type": "code",
   "execution_count": null,
   "metadata": {},
   "outputs": [],
   "source": []
  }
 ],
 "metadata": {
  "kernelspec": {
   "display_name": "Python 3",
   "language": "python",
   "name": "python3"
  },
  "language_info": {
   "codemirror_mode": {
    "name": "ipython",
    "version": 3
   },
   "file_extension": ".py",
   "mimetype": "text/x-python",
   "name": "python",
   "nbconvert_exporter": "python",
   "pygments_lexer": "ipython3",
   "version": "3.5.2"
  }
 },
 "nbformat": 4,
 "nbformat_minor": 2
}
